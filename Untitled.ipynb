{
 "cells": [
  {
   "cell_type": "markdown",
   "id": "031a66d3",
   "metadata": {},
   "source": [
    "# Flip Robo Technologies\n",
    "Internship - Batch DS0523\n",
    "\n",
    "Project : Batch DS2311\n",
    "\n",
    "Regular Expressions\n",
    "\n",
    "By Mohan G"
   ]
  },
  {
   "cell_type": "markdown",
   "id": "6fb19acd",
   "metadata": {},
   "source": [
    "Question 1- Write a Python program to replace all occurrences of a space, comma, or dot with a colon.\n",
    "Sample Text- 'Python Exercises, PHP exercises.'\n",
    "Expected Output: Python:Exercises::PHP:exercises:\n",
    "\n"
   ]
  },
  {
   "cell_type": "code",
   "execution_count": 3,
   "id": "c826ad90",
   "metadata": {},
   "outputs": [
    {
     "name": "stdout",
     "output_type": "stream",
     "text": [
      "Python;Excersises;PHP;exercises\n"
     ]
    }
   ],
   "source": [
    "#Sample Text\n",
    "import re\n",
    "def replace_characters(input):\n",
    "    pattern = r'[ ,.]'\n",
    "    output = re.sub(pattern,';', input)\n",
    "    return output\n",
    "sampletext = 'Python Excersises,PHP exercises'\n",
    "output = replace_characters(sampletext)\n",
    "print(output)\n"
   ]
  },
  {
   "cell_type": "code",
   "execution_count": 6,
   "id": "42a16bd8",
   "metadata": {},
   "outputs": [
    {
     "name": "stdout",
     "output_type": "stream",
     "text": [
      "Enter the sample text:Dragon ball Super is the greatest of all time. Son Goku is the MC\n",
      "Dragon:ball:Super:is:the:greatest:of:all:time::Son:Goku:is:the:MC\n"
     ]
    }
   ],
   "source": [
    "import re\n",
    "def replace_characters(input):\n",
    "    pattern = r'[ ,.]'\n",
    "    output = re.sub(pattern,':', input)\n",
    "    return output\n",
    "sampletext = input(\"Enter the sample text:\")\n",
    "output = replace_characters(sampletext)\n",
    "print(output)\n"
   ]
  },
  {
   "cell_type": "code",
   "execution_count": 10,
   "id": "0ba37705",
   "metadata": {},
   "outputs": [
    {
     "name": "stdout",
     "output_type": "stream",
     "text": [
      "Python:Exercises::PHP:exercises:\n"
     ]
    }
   ],
   "source": [
    "#Sample Text\n",
    "import re\n",
    "def replace_characters(input):\n",
    "    pattern = r'[ ,.]'\n",
    "    output = re.sub(pattern,':', input)\n",
    "    return output\n",
    "sampletext = 'Python Exercises, PHP exercises '\n",
    "output = replace_characters(sampletext)\n",
    "print(output)\n"
   ]
  },
  {
   "cell_type": "markdown",
   "id": "a24a51e0",
   "metadata": {},
   "source": [
    "Question 2-  Create a dataframe using the dictionary below and remove everything (commas (,), !, XXXX, ;, etc.) from the columns except words.\n",
    "Dictionary- {'SUMMARY' : ['hello, world!', 'XXXXX test', '123four, five:; six...']}\n",
    "Expected output-\n",
    "0      hello world\n",
    "1             test\n",
    "2    four five six\n"
   ]
  },
  {
   "cell_type": "code",
   "execution_count": 7,
   "id": "ce6bcaa5",
   "metadata": {},
   "outputs": [
    {
     "ename": "NameError",
     "evalue": "name 'unwanted_characters' is not defined",
     "output_type": "error",
     "traceback": [
      "\u001b[1;31m---------------------------------------------------------------------------\u001b[0m",
      "\u001b[1;31mNameError\u001b[0m                                 Traceback (most recent call last)",
      "Cell \u001b[1;32mIn[7], line 9\u001b[0m\n\u001b[0;32m      7\u001b[0m     remove \u001b[38;5;241m=\u001b[39m \u001b[38;5;124m'\u001b[39m\u001b[38;5;124m'\u001b[39m\u001b[38;5;241m.\u001b[39mjoin(char \u001b[38;5;28;01mif\u001b[39;00m char \u001b[38;5;129;01mnot\u001b[39;00m \u001b[38;5;129;01min\u001b[39;00m unwanted_characters \u001b[38;5;28;01melse\u001b[39;00m \u001b[38;5;124m'\u001b[39m\u001b[38;5;124m \u001b[39m\u001b[38;5;124m'\u001b[39m \u001b[38;5;28;01mfor\u001b[39;00m char \u001b[38;5;129;01min\u001b[39;00m text)\n\u001b[0;32m      8\u001b[0m     \u001b[38;5;28;01mreturn\u001b[39;00m \u001b[38;5;124m'\u001b[39m\u001b[38;5;124m \u001b[39m\u001b[38;5;124m'\u001b[39m\u001b[38;5;241m.\u001b[39mjoin(remove\u001b[38;5;241m.\u001b[39msplit())\n\u001b[1;32m----> 9\u001b[0m df[\u001b[38;5;124m'\u001b[39m\u001b[38;5;124mSUMMARY\u001b[39m\u001b[38;5;124m'\u001b[39m] \u001b[38;5;241m=\u001b[39m \u001b[43mdf\u001b[49m\u001b[43m[\u001b[49m\u001b[38;5;124;43m'\u001b[39;49m\u001b[38;5;124;43mSUMMARY\u001b[39;49m\u001b[38;5;124;43m'\u001b[39;49m\u001b[43m]\u001b[49m\u001b[38;5;241;43m.\u001b[39;49m\u001b[43mapply\u001b[49m\u001b[43m(\u001b[49m\u001b[43mremove\u001b[49m\u001b[43m)\u001b[49m\n",
      "File \u001b[1;32m~\\anaconda3\\lib\\site-packages\\pandas\\core\\series.py:4771\u001b[0m, in \u001b[0;36mSeries.apply\u001b[1;34m(self, func, convert_dtype, args, **kwargs)\u001b[0m\n\u001b[0;32m   4661\u001b[0m \u001b[38;5;28;01mdef\u001b[39;00m \u001b[38;5;21mapply\u001b[39m(\n\u001b[0;32m   4662\u001b[0m     \u001b[38;5;28mself\u001b[39m,\n\u001b[0;32m   4663\u001b[0m     func: AggFuncType,\n\u001b[1;32m   (...)\u001b[0m\n\u001b[0;32m   4666\u001b[0m     \u001b[38;5;241m*\u001b[39m\u001b[38;5;241m*\u001b[39mkwargs,\n\u001b[0;32m   4667\u001b[0m ) \u001b[38;5;241m-\u001b[39m\u001b[38;5;241m>\u001b[39m DataFrame \u001b[38;5;241m|\u001b[39m Series:\n\u001b[0;32m   4668\u001b[0m     \u001b[38;5;124;03m\"\"\"\u001b[39;00m\n\u001b[0;32m   4669\u001b[0m \u001b[38;5;124;03m    Invoke function on values of Series.\u001b[39;00m\n\u001b[0;32m   4670\u001b[0m \n\u001b[1;32m   (...)\u001b[0m\n\u001b[0;32m   4769\u001b[0m \u001b[38;5;124;03m    dtype: float64\u001b[39;00m\n\u001b[0;32m   4770\u001b[0m \u001b[38;5;124;03m    \"\"\"\u001b[39;00m\n\u001b[1;32m-> 4771\u001b[0m     \u001b[38;5;28;01mreturn\u001b[39;00m \u001b[43mSeriesApply\u001b[49m\u001b[43m(\u001b[49m\u001b[38;5;28;43mself\u001b[39;49m\u001b[43m,\u001b[49m\u001b[43m \u001b[49m\u001b[43mfunc\u001b[49m\u001b[43m,\u001b[49m\u001b[43m \u001b[49m\u001b[43mconvert_dtype\u001b[49m\u001b[43m,\u001b[49m\u001b[43m \u001b[49m\u001b[43margs\u001b[49m\u001b[43m,\u001b[49m\u001b[43m \u001b[49m\u001b[43mkwargs\u001b[49m\u001b[43m)\u001b[49m\u001b[38;5;241;43m.\u001b[39;49m\u001b[43mapply\u001b[49m\u001b[43m(\u001b[49m\u001b[43m)\u001b[49m\n",
      "File \u001b[1;32m~\\anaconda3\\lib\\site-packages\\pandas\\core\\apply.py:1123\u001b[0m, in \u001b[0;36mSeriesApply.apply\u001b[1;34m(self)\u001b[0m\n\u001b[0;32m   1120\u001b[0m     \u001b[38;5;28;01mreturn\u001b[39;00m \u001b[38;5;28mself\u001b[39m\u001b[38;5;241m.\u001b[39mapply_str()\n\u001b[0;32m   1122\u001b[0m \u001b[38;5;66;03m# self.f is Callable\u001b[39;00m\n\u001b[1;32m-> 1123\u001b[0m \u001b[38;5;28;01mreturn\u001b[39;00m \u001b[38;5;28;43mself\u001b[39;49m\u001b[38;5;241;43m.\u001b[39;49m\u001b[43mapply_standard\u001b[49m\u001b[43m(\u001b[49m\u001b[43m)\u001b[49m\n",
      "File \u001b[1;32m~\\anaconda3\\lib\\site-packages\\pandas\\core\\apply.py:1174\u001b[0m, in \u001b[0;36mSeriesApply.apply_standard\u001b[1;34m(self)\u001b[0m\n\u001b[0;32m   1172\u001b[0m     \u001b[38;5;28;01melse\u001b[39;00m:\n\u001b[0;32m   1173\u001b[0m         values \u001b[38;5;241m=\u001b[39m obj\u001b[38;5;241m.\u001b[39mastype(\u001b[38;5;28mobject\u001b[39m)\u001b[38;5;241m.\u001b[39m_values\n\u001b[1;32m-> 1174\u001b[0m         mapped \u001b[38;5;241m=\u001b[39m \u001b[43mlib\u001b[49m\u001b[38;5;241;43m.\u001b[39;49m\u001b[43mmap_infer\u001b[49m\u001b[43m(\u001b[49m\n\u001b[0;32m   1175\u001b[0m \u001b[43m            \u001b[49m\u001b[43mvalues\u001b[49m\u001b[43m,\u001b[49m\n\u001b[0;32m   1176\u001b[0m \u001b[43m            \u001b[49m\u001b[43mf\u001b[49m\u001b[43m,\u001b[49m\n\u001b[0;32m   1177\u001b[0m \u001b[43m            \u001b[49m\u001b[43mconvert\u001b[49m\u001b[38;5;241;43m=\u001b[39;49m\u001b[38;5;28;43mself\u001b[39;49m\u001b[38;5;241;43m.\u001b[39;49m\u001b[43mconvert_dtype\u001b[49m\u001b[43m,\u001b[49m\n\u001b[0;32m   1178\u001b[0m \u001b[43m        \u001b[49m\u001b[43m)\u001b[49m\n\u001b[0;32m   1180\u001b[0m \u001b[38;5;28;01mif\u001b[39;00m \u001b[38;5;28mlen\u001b[39m(mapped) \u001b[38;5;129;01mand\u001b[39;00m \u001b[38;5;28misinstance\u001b[39m(mapped[\u001b[38;5;241m0\u001b[39m], ABCSeries):\n\u001b[0;32m   1181\u001b[0m     \u001b[38;5;66;03m# GH#43986 Need to do list(mapped) in order to get treated as nested\u001b[39;00m\n\u001b[0;32m   1182\u001b[0m     \u001b[38;5;66;03m#  See also GH#25959 regarding EA support\u001b[39;00m\n\u001b[0;32m   1183\u001b[0m     \u001b[38;5;28;01mreturn\u001b[39;00m obj\u001b[38;5;241m.\u001b[39m_constructor_expanddim(\u001b[38;5;28mlist\u001b[39m(mapped), index\u001b[38;5;241m=\u001b[39mobj\u001b[38;5;241m.\u001b[39mindex)\n",
      "File \u001b[1;32m~\\anaconda3\\lib\\site-packages\\pandas\\_libs\\lib.pyx:2924\u001b[0m, in \u001b[0;36mpandas._libs.lib.map_infer\u001b[1;34m()\u001b[0m\n",
      "Cell \u001b[1;32mIn[7], line 7\u001b[0m, in \u001b[0;36mremove\u001b[1;34m(text)\u001b[0m\n\u001b[0;32m      5\u001b[0m \u001b[38;5;28;01mdef\u001b[39;00m \u001b[38;5;21mremove\u001b[39m(text):\n\u001b[0;32m      6\u001b[0m     unwanted \u001b[38;5;241m=\u001b[39m \u001b[38;5;124m'\u001b[39m\u001b[38;5;124m,!XXXXX;:\u001b[39m\u001b[38;5;124m'\u001b[39m\n\u001b[1;32m----> 7\u001b[0m     remove \u001b[38;5;241m=\u001b[39m \u001b[38;5;124;43m'\u001b[39;49m\u001b[38;5;124;43m'\u001b[39;49m\u001b[38;5;241;43m.\u001b[39;49m\u001b[43mjoin\u001b[49m\u001b[43m(\u001b[49m\u001b[43mchar\u001b[49m\u001b[43m \u001b[49m\u001b[38;5;28;43;01mif\u001b[39;49;00m\u001b[43m \u001b[49m\u001b[43mchar\u001b[49m\u001b[43m \u001b[49m\u001b[38;5;129;43;01mnot\u001b[39;49;00m\u001b[43m \u001b[49m\u001b[38;5;129;43;01min\u001b[39;49;00m\u001b[43m \u001b[49m\u001b[43munwanted_characters\u001b[49m\u001b[43m \u001b[49m\u001b[38;5;28;43;01melse\u001b[39;49;00m\u001b[43m \u001b[49m\u001b[38;5;124;43m'\u001b[39;49m\u001b[38;5;124;43m \u001b[39;49m\u001b[38;5;124;43m'\u001b[39;49m\u001b[43m \u001b[49m\u001b[38;5;28;43;01mfor\u001b[39;49;00m\u001b[43m \u001b[49m\u001b[43mchar\u001b[49m\u001b[43m \u001b[49m\u001b[38;5;129;43;01min\u001b[39;49;00m\u001b[43m \u001b[49m\u001b[43mtext\u001b[49m\u001b[43m)\u001b[49m\n\u001b[0;32m      8\u001b[0m     \u001b[38;5;28;01mreturn\u001b[39;00m \u001b[38;5;124m'\u001b[39m\u001b[38;5;124m \u001b[39m\u001b[38;5;124m'\u001b[39m\u001b[38;5;241m.\u001b[39mjoin(remove\u001b[38;5;241m.\u001b[39msplit())\n",
      "Cell \u001b[1;32mIn[7], line 7\u001b[0m, in \u001b[0;36m<genexpr>\u001b[1;34m(.0)\u001b[0m\n\u001b[0;32m      5\u001b[0m \u001b[38;5;28;01mdef\u001b[39;00m \u001b[38;5;21mremove\u001b[39m(text):\n\u001b[0;32m      6\u001b[0m     unwanted \u001b[38;5;241m=\u001b[39m \u001b[38;5;124m'\u001b[39m\u001b[38;5;124m,!XXXXX;:\u001b[39m\u001b[38;5;124m'\u001b[39m\n\u001b[1;32m----> 7\u001b[0m     remove \u001b[38;5;241m=\u001b[39m \u001b[38;5;124m'\u001b[39m\u001b[38;5;124m'\u001b[39m\u001b[38;5;241m.\u001b[39mjoin(char \u001b[38;5;28;01mif\u001b[39;00m char \u001b[38;5;129;01mnot\u001b[39;00m \u001b[38;5;129;01min\u001b[39;00m \u001b[43munwanted_characters\u001b[49m \u001b[38;5;28;01melse\u001b[39;00m \u001b[38;5;124m'\u001b[39m\u001b[38;5;124m \u001b[39m\u001b[38;5;124m'\u001b[39m \u001b[38;5;28;01mfor\u001b[39;00m char \u001b[38;5;129;01min\u001b[39;00m text)\n\u001b[0;32m      8\u001b[0m     \u001b[38;5;28;01mreturn\u001b[39;00m \u001b[38;5;124m'\u001b[39m\u001b[38;5;124m \u001b[39m\u001b[38;5;124m'\u001b[39m\u001b[38;5;241m.\u001b[39mjoin(remove\u001b[38;5;241m.\u001b[39msplit())\n",
      "\u001b[1;31mNameError\u001b[0m: name 'unwanted_characters' is not defined"
     ]
    }
   ],
   "source": [
    "import pandas as pd\n",
    "import re\n",
    "sample = {'SUMMARY' : ['hello, world!', 'XXXXX test', '123four, five:; six...']} \n",
    "df = pd.DataFrame(sample)\n",
    "def remove(text):\n",
    "    unwanted = ',!XXXXX;:'\n",
    "    remove = ''.join(char if char not in unwanted_characters else ' ' for char in text)\n",
    "    return ' '.join(remove.split())\n",
    "df['SUMMARY'] = df['SUMMARY'].apply(remove)\n"
   ]
  },
  {
   "cell_type": "markdown",
   "id": "a228ff7d",
   "metadata": {},
   "source": [
    "Question 3- Create a function in python to find all words that are at least 4 characters long in a string. The use of the re.compile() method is mandatory."
   ]
  },
  {
   "cell_type": "code",
   "execution_count": 9,
   "id": "896dc7df",
   "metadata": {},
   "outputs": [
    {
     "name": "stdout",
     "output_type": "stream",
     "text": [
      "Enter the words which are at leas 4 characters longAttack On Titan\n",
      "Words with at least 4 characters: ['Attack', 'Titan']\n"
     ]
    }
   ],
   "source": [
    "import re\n",
    "\n",
    "def find_words_4_characters_long(input_str):\n",
    "    pattern = re.compile(r'\\b\\w{4,}\\b')    #Request you to explain how it is used properly\n",
    "    long_words = pattern.findall(input_str)\n",
    "    return long_words\n",
    "\n",
    "input_str = input(\"Enter the words which are at leas 4 characters long\")\n",
    "result = find_words_4_characters_long(input_str)\n",
    "print(\"Words with at least 4 characters:\", result)\n"
   ]
  },
  {
   "cell_type": "markdown",
   "id": "280f6d59",
   "metadata": {},
   "source": [
    "Question 4- Create a function in python to find all three, four, and five character words in a string. The use of the re.compile() method is mandatory."
   ]
  },
  {
   "cell_type": "code",
   "execution_count": 11,
   "id": "78a4b38a",
   "metadata": {},
   "outputs": [
    {
     "name": "stdout",
     "output_type": "stream",
     "text": [
      "Find all three four and five chaacters words in a strinfDragon ball super and Attack on titan anime is greatest of all time\n",
      "Three, four, and five character words: ['Titan']\n"
     ]
    }
   ],
   "source": [
    "import re\n",
    "\n",
    "def find_length_words(input_str):\n",
    "    pattern = re.compile(r'\\b\\w{3,5}\\b')\n",
    "    find_length_words = pattern.findall(input_str)\n",
    "    return find_length_words\n",
    "\n",
    "input_string = input(\"Find all three four and five chaacters words in a strinf\")\n",
    "result = find_length_words(input_str)\n",
    "print(\"Three, four, and five character words:\", result)\n"
   ]
  },
  {
   "cell_type": "markdown",
   "id": "77520e12",
   "metadata": {},
   "source": [
    "Question 5- Create a function in Python to remove the parenthesis in a list of strings. The use of the re.compile() method is mandatory.\n",
    "Sample Text: [\"example (.com)\", \"hr@fliprobo (.com)\", \"github (.com)\", \"Hello (Data Science World)\", \"Data (Scientist)\"]\n",
    "Expected Output:\n",
    "example.com\n",
    "hr@fliprobo.com\n",
    "github.com\n",
    "Hello Data Science World\n"
   ]
  },
  {
   "cell_type": "code",
   "execution_count": 12,
   "id": "8c35068b",
   "metadata": {},
   "outputs": [
    {
     "name": "stdout",
     "output_type": "stream",
     "text": [
      "example \n",
      "hr@fliprobo \n",
      "github \n",
      "Hello \n",
      "Data \n"
     ]
    }
   ],
   "source": [
    "import re\n",
    "\n",
    "def remove_parenthesis(strings_list):\n",
    "    pattern = re.compile(r'\\([^)]*\\)')\n",
    "    result = [pattern.sub('', string) for string in strings_list]\n",
    "    return result\n",
    "\n",
    "sample_text = [\"example (.com)\", \"hr@fliprobo (.com)\", \"github (.com)\", \"Hello (Data Science World)\", \"Data (Scientist)\"]\n",
    "\n",
    "output_text = remove_parenthesis(sample_text)\n",
    "for string in output_text:\n",
    "    print(string)\n"
   ]
  },
  {
   "cell_type": "markdown",
   "id": "56d3849e",
   "metadata": {},
   "source": [
    "Question 7- Write a regular expression in Python to split a string into uppercase letters.\n",
    "Sample text: “ImportanceOfRegularExpressionsInPython”\n",
    "Expected Output: [‘Importance’, ‘Of’, ‘Regular’, ‘Expression’, ‘In’, ‘Python’]\n",
    "\n"
   ]
  },
  {
   "cell_type": "code",
   "execution_count": 14,
   "id": "5df3bdf9",
   "metadata": {},
   "outputs": [
    {
     "name": "stdout",
     "output_type": "stream",
     "text": [
      "['Importance', 'Of', 'Regular', 'Expressions', 'In', 'Python']\n"
     ]
    }
   ],
   "source": [
    "import re\n",
    "sample_text = \"ImportanceOfRegularExpressionsInPython\"\n",
    "pattern = re.compile(r'[A-Z][a-z]*')\n",
    "result = pattern.findall(sample_text)\n",
    "print(result)\n"
   ]
  },
  {
   "cell_type": "markdown",
   "id": "3e7b269b",
   "metadata": {},
   "source": [
    "Question 8- Create a function in python to insert spaces between words starting with numbers.\n",
    "Sample Text: “RegularExpression1IsAn2ImportantTopic3InPython\"\n",
    "Expected Output: RegularExpression 1IsAn 2ImportantTopic 3InPython\n"
   ]
  },
  {
   "cell_type": "code",
   "execution_count": 15,
   "id": "55ae4850",
   "metadata": {},
   "outputs": [
    {
     "name": "stdout",
     "output_type": "stream",
     "text": [
      "RegularExpression 1IsAn 2ImportantTopic 3InPython\n"
     ]
    }
   ],
   "source": [
    "import re\n",
    "\n",
    "def insert_spaces(text):\n",
    "    pattern = re.compile(r'(?<=[a-zA-Z])(\\d)')\n",
    "    result = pattern.sub(r' \\1', text)\n",
    "    return result\n",
    "sample_text = \"RegularExpression1IsAn2ImportantTopic3InPython\"\n",
    "output_text = insert_spaces(sample_text)\n",
    "print(output_text)\n"
   ]
  },
  {
   "cell_type": "markdown",
   "id": "df1d8220",
   "metadata": {},
   "source": [
    "Question 9- Create a function in python to insert spaces between words starting with capital letters or with numbers.\n",
    "Sample Text: “RegularExpression1IsAn2ImportantTopic3InPython\"\n",
    "Expected Output:  RegularExpression 1 IsAn 2 ImportantTopic 3 InPython\n"
   ]
  },
  {
   "cell_type": "code",
   "execution_count": 16,
   "id": "2c6e64d4",
   "metadata": {},
   "outputs": [
    {
     "name": "stdout",
     "output_type": "stream",
     "text": [
      "Regular Expression 1 Is An 2 Important Topic 3 In Python\n"
     ]
    }
   ],
   "source": [
    "import re\n",
    "\n",
    "def insert_spaces(text):\n",
    "    pattern = re.compile(r'(?<=[a-z0-9])([A-Z\\d])')\n",
    "    result = pattern.sub(r' \\1', text)\n",
    "    return result\n",
    "sample_text = \"RegularExpression1IsAn2ImportantTopic3InPython\"\n",
    "output_text = insert_spaces(sample_text)\n",
    "print(output_text)\n"
   ]
  },
  {
   "cell_type": "markdown",
   "id": "b33a81ad",
   "metadata": {},
   "source": [
    "Question 10- Use the github link below to read the data and create a dataframe. After creating the dataframe extract the first 6 letters of each country and store in the dataframe under a new column called first_five_letters.\n",
    "Github Link-  https://raw.githubusercontent.com/dsrscientist/DSData/master/happiness_score_dataset.csv\n"
   ]
  },
  {
   "cell_type": "code",
   "execution_count": 19,
   "id": "c91ce0ec",
   "metadata": {},
   "outputs": [
    {
     "name": "stdout",
     "output_type": "stream",
     "text": [
      "       Country first_six_letters\n",
      "0  Switzerland             Switz\n",
      "1      Iceland             Icela\n",
      "2      Denmark             Denma\n",
      "3       Norway             Norwa\n",
      "4       Canada             Canad\n"
     ]
    }
   ],
   "source": [
    "import pandas as pd\n",
    "github_link = \"https://raw.githubusercontent.com/dsrscientist/DSData/master/happiness_score_dataset.csv\"\n",
    "df = pd.read_csv(github_link)\n",
    "df['first_six_letters'] = df['Country'].str[:5]\n",
    "print(df[['Country', 'first_six_letters']].head())\n"
   ]
  },
  {
   "cell_type": "markdown",
   "id": "abe0baa3",
   "metadata": {},
   "source": [
    "Question 11- Write a Python program to match a string that contains only upper and lowercase letters, numbers, and underscores."
   ]
  },
  {
   "cell_type": "code",
   "execution_count": 23,
   "id": "8c610164",
   "metadata": {},
   "outputs": [
    {
     "name": "stdout",
     "output_type": "stream",
     "text": [
      "Enter the value of String1Son Goku is the MC of Dragon Ball Super\n",
      "Enter the value of String2Hinata Shoyo is the MC of Haikyuu\n",
      "Enter the value of String3Ishigami Senku is the MC of Dr.Stone\n",
      "None\n",
      "None\n",
      "None\n"
     ]
    }
   ],
   "source": [
    "import re\n",
    "\n",
    "def match_string(input_string):\n",
    "    def extract_string(input_string):\n",
    "        pattern = re.compile(r'^[a-zA-Z0-9_]+$')\n",
    "        match_result = pattern.match(input_string)\n",
    "        return (match_result)\n",
    "    \n",
    "\n",
    "test_string1 = input(\"Enter the value of String1\")\n",
    "test_string2 = input(\"Enter the value of String2\")\n",
    "test_string3 = input(\"Enter the value of String3\")\n",
    "\n",
    "print(match_string(test_string1)) \n",
    "print(match_string(test_string2))  \n",
    "print(match_string(test_string3)) \n"
   ]
  },
  {
   "cell_type": "markdown",
   "id": "693b8e74",
   "metadata": {},
   "source": [
    "# I am unable to get the result for the above question, please expalin"
   ]
  },
  {
   "cell_type": "markdown",
   "id": "217b3d5e",
   "metadata": {},
   "source": [
    "Question 12- Write a Python program where a string will start with a specific number. \n"
   ]
  },
  {
   "cell_type": "code",
   "execution_count": 26,
   "id": "cf594c0f",
   "metadata": {},
   "outputs": [
    {
     "name": "stdout",
     "output_type": "stream",
     "text": [
      "False\n",
      "True\n",
      "True\n"
     ]
    }
   ],
   "source": [
    "def starts_with_number(input_string, number):\n",
    "    number_str = str(number)\n",
    "    return input_string.startswith(number_str)\n",
    "\n",
    "test_string1 = \"26\"\n",
    "test_string2 = \"69WTH\"\n",
    "number_to_check = 69\n",
    "\n",
    "print(starts_with_number(test_string1, number_to_check)) \n",
    "print(starts_with_number(test_string2, number_to_check))  \n",
    "\n",
    "print(starts_with_number(test_string2, specific_number)) "
   ]
  },
  {
   "cell_type": "markdown",
   "id": "91277f07",
   "metadata": {},
   "source": [
    "Question 13- Write a Python program to remove leading zeros from an IP address"
   ]
  },
  {
   "cell_type": "code",
   "execution_count": 28,
   "id": "04dddfbe",
   "metadata": {},
   "outputs": [
    {
     "name": "stdout",
     "output_type": "stream",
     "text": [
      "Enter the IP address194.232.001.101\n"
     ]
    },
    {
     "ename": "ValueError",
     "evalue": "'194.232.001.101' does not appear to be an IPv4 or IPv6 address",
     "output_type": "error",
     "traceback": [
      "\u001b[1;31m---------------------------------------------------------------------------\u001b[0m",
      "\u001b[1;31mValueError\u001b[0m                                Traceback (most recent call last)",
      "Cell \u001b[1;32mIn[28], line 9\u001b[0m\n\u001b[0;32m      6\u001b[0m     \u001b[38;5;28;01mreturn\u001b[39;00m cleaned_ip_address_str\n\u001b[0;32m      8\u001b[0m ip_address_with_zeros \u001b[38;5;241m=\u001b[39m \u001b[38;5;28minput\u001b[39m(\u001b[38;5;124m\"\u001b[39m\u001b[38;5;124mEnter the IP address\u001b[39m\u001b[38;5;124m\"\u001b[39m)\n\u001b[1;32m----> 9\u001b[0m cleaned_ip_address \u001b[38;5;241m=\u001b[39m \u001b[43mremove_leading_zeros\u001b[49m\u001b[43m(\u001b[49m\u001b[43mip_address_with_zeros\u001b[49m\u001b[43m)\u001b[49m\n\u001b[0;32m     11\u001b[0m \u001b[38;5;28mprint\u001b[39m(\u001b[38;5;124m\"\u001b[39m\u001b[38;5;124mOriginal IP Address:\u001b[39m\u001b[38;5;124m\"\u001b[39m, ip_address_with_zeros)\n\u001b[0;32m     12\u001b[0m \u001b[38;5;28mprint\u001b[39m(\u001b[38;5;124m\"\u001b[39m\u001b[38;5;124mCleaned IP Address:\u001b[39m\u001b[38;5;124m\"\u001b[39m, cleaned_ip_address)\n",
      "Cell \u001b[1;32mIn[28], line 4\u001b[0m, in \u001b[0;36mremove_leading_zeros\u001b[1;34m(ip_address_str)\u001b[0m\n\u001b[0;32m      3\u001b[0m \u001b[38;5;28;01mdef\u001b[39;00m \u001b[38;5;21mremove_leading_zeros\u001b[39m(ip_address_str):\n\u001b[1;32m----> 4\u001b[0m     ip_address \u001b[38;5;241m=\u001b[39m \u001b[43mipaddress\u001b[49m\u001b[38;5;241;43m.\u001b[39;49m\u001b[43mip_address\u001b[49m\u001b[43m(\u001b[49m\u001b[43mip_address_str\u001b[49m\u001b[43m)\u001b[49m\n\u001b[0;32m      5\u001b[0m     cleaned_ip_address_str \u001b[38;5;241m=\u001b[39m \u001b[38;5;28mstr\u001b[39m(ip_address)\n\u001b[0;32m      6\u001b[0m     \u001b[38;5;28;01mreturn\u001b[39;00m cleaned_ip_address_str\n",
      "File \u001b[1;32m~\\anaconda3\\lib\\ipaddress.py:54\u001b[0m, in \u001b[0;36mip_address\u001b[1;34m(address)\u001b[0m\n\u001b[0;32m     51\u001b[0m \u001b[38;5;28;01mexcept\u001b[39;00m (AddressValueError, NetmaskValueError):\n\u001b[0;32m     52\u001b[0m     \u001b[38;5;28;01mpass\u001b[39;00m\n\u001b[1;32m---> 54\u001b[0m \u001b[38;5;28;01mraise\u001b[39;00m \u001b[38;5;167;01mValueError\u001b[39;00m(\u001b[38;5;124mf\u001b[39m\u001b[38;5;124m'\u001b[39m\u001b[38;5;132;01m{\u001b[39;00maddress\u001b[38;5;132;01m!r}\u001b[39;00m\u001b[38;5;124m does not appear to be an IPv4 or IPv6 address\u001b[39m\u001b[38;5;124m'\u001b[39m)\n",
      "\u001b[1;31mValueError\u001b[0m: '194.232.001.101' does not appear to be an IPv4 or IPv6 address"
     ]
    }
   ],
   "source": [
    "import ipaddress\n",
    "\n",
    "def remove_leading_zeros(ip_address_str):\n",
    "    ip_address = ipaddress.ip_address(ip_address_str)\n",
    "    cleaned_ip_address_str = str(ip_address)\n",
    "    return cleaned_ip_address_str\n",
    "\n",
    "ip_address_with_zeros = input(\"Enter the IP address\")\n",
    "cleaned_ip_address = remove_leading_zeros(ip_address_with_zeros)\n",
    "\n",
    "print(\"Original IP Address:\", ip_address_with_zeros)\n",
    "print(\"Cleaned IP Address:\", cleaned_ip_address)\n"
   ]
  },
  {
   "cell_type": "markdown",
   "id": "65f59239",
   "metadata": {},
   "source": [
    "Question 14- Write a regular expression in python to match a date string in the form of Month name followed by day number and year stored in a text file.\n",
    "Sample text :  ' On August 15th 1947 that India was declared independent from British colonialism, and the reins of control were handed over to the leaders of the Country’.\n",
    "Expected Output- August 15th 1947\n",
    "Note- Store given sample text in the text file and then extract the date string asked format.\n"
   ]
  },
  {
   "cell_type": "code",
   "execution_count": null,
   "id": "e6eeb91b",
   "metadata": {},
   "outputs": [],
   "source": []
  },
  {
   "cell_type": "code",
   "execution_count": null,
   "id": "7409a41b",
   "metadata": {},
   "outputs": [],
   "source": []
  },
  {
   "cell_type": "code",
   "execution_count": null,
   "id": "07af9f20",
   "metadata": {},
   "outputs": [],
   "source": []
  },
  {
   "cell_type": "code",
   "execution_count": null,
   "id": "89fe220c",
   "metadata": {},
   "outputs": [],
   "source": []
  },
  {
   "cell_type": "code",
   "execution_count": null,
   "id": "1bde72d7",
   "metadata": {},
   "outputs": [],
   "source": []
  },
  {
   "cell_type": "code",
   "execution_count": null,
   "id": "d2da82de",
   "metadata": {},
   "outputs": [],
   "source": []
  },
  {
   "cell_type": "code",
   "execution_count": null,
   "id": "f93782e2",
   "metadata": {},
   "outputs": [],
   "source": []
  },
  {
   "cell_type": "code",
   "execution_count": null,
   "id": "a010ed1f",
   "metadata": {},
   "outputs": [],
   "source": []
  },
  {
   "cell_type": "code",
   "execution_count": null,
   "id": "e739efc0",
   "metadata": {},
   "outputs": [],
   "source": []
  },
  {
   "cell_type": "code",
   "execution_count": null,
   "id": "a35cc5e8",
   "metadata": {},
   "outputs": [],
   "source": []
  },
  {
   "cell_type": "code",
   "execution_count": null,
   "id": "009d13db",
   "metadata": {},
   "outputs": [],
   "source": []
  },
  {
   "cell_type": "code",
   "execution_count": null,
   "id": "25749a20",
   "metadata": {},
   "outputs": [],
   "source": []
  },
  {
   "cell_type": "code",
   "execution_count": null,
   "id": "7d3d486a",
   "metadata": {},
   "outputs": [],
   "source": []
  },
  {
   "cell_type": "code",
   "execution_count": null,
   "id": "04cd0e47",
   "metadata": {},
   "outputs": [],
   "source": []
  },
  {
   "cell_type": "code",
   "execution_count": null,
   "id": "abd25932",
   "metadata": {},
   "outputs": [],
   "source": []
  },
  {
   "cell_type": "code",
   "execution_count": null,
   "id": "3924d75b",
   "metadata": {},
   "outputs": [],
   "source": []
  },
  {
   "cell_type": "code",
   "execution_count": null,
   "id": "f01aca0e",
   "metadata": {},
   "outputs": [],
   "source": []
  },
  {
   "cell_type": "code",
   "execution_count": null,
   "id": "2f1e0584",
   "metadata": {},
   "outputs": [],
   "source": []
  },
  {
   "cell_type": "code",
   "execution_count": null,
   "id": "a6f447d9",
   "metadata": {},
   "outputs": [],
   "source": []
  },
  {
   "cell_type": "code",
   "execution_count": null,
   "id": "31015caf",
   "metadata": {},
   "outputs": [],
   "source": []
  },
  {
   "cell_type": "code",
   "execution_count": null,
   "id": "71ffc289",
   "metadata": {},
   "outputs": [],
   "source": []
  },
  {
   "cell_type": "code",
   "execution_count": null,
   "id": "86c1237b",
   "metadata": {},
   "outputs": [],
   "source": []
  },
  {
   "cell_type": "code",
   "execution_count": null,
   "id": "24ccc323",
   "metadata": {},
   "outputs": [],
   "source": []
  },
  {
   "cell_type": "code",
   "execution_count": null,
   "id": "f33b8538",
   "metadata": {},
   "outputs": [],
   "source": []
  }
 ],
 "metadata": {
  "kernelspec": {
   "display_name": "Python 3 (ipykernel)",
   "language": "python",
   "name": "python3"
  },
  "language_info": {
   "codemirror_mode": {
    "name": "ipython",
    "version": 3
   },
   "file_extension": ".py",
   "mimetype": "text/x-python",
   "name": "python",
   "nbconvert_exporter": "python",
   "pygments_lexer": "ipython3",
   "version": "3.10.9"
  }
 },
 "nbformat": 4,
 "nbformat_minor": 5
}
