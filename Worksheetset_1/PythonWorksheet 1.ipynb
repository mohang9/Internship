{
 "cells": [
  {
   "cell_type": "markdown",
   "id": "2b0ba6c2",
   "metadata": {},
   "source": [
    "# Flip Robo Technologies\n",
    "Internship - Batch DS0523\n",
    "\n",
    "Project : Batch DS2311\n",
    "\n",
    "By Mohan G"
   ]
  },
  {
   "cell_type": "markdown",
   "id": "ec3e7bea",
   "metadata": {},
   "source": [
    "Python Worksheet 1"
   ]
  },
  {
   "cell_type": "markdown",
   "id": "77d35252",
   "metadata": {},
   "source": [
    "11. Write a python program to find the factorial of a number"
   ]
  },
  {
   "cell_type": "code",
   "execution_count": 4,
   "id": "5103586c",
   "metadata": {},
   "outputs": [
    {
     "name": "stdout",
     "output_type": "stream",
     "text": [
      "Enter a number3\n",
      "The factorial of 3 is: 6\n"
     ]
    }
   ],
   "source": [
    "def factorial(n):\n",
    "    if n == 0 or n == 1:\n",
    "        return 1\n",
    "    else:\n",
    "        return n * factorial(n - 1)\n",
    "\n",
    "check = int(input(\"Enter a number\"))\n",
    "\n",
    "if check < 0:\n",
    "    print(\"Factorial is not defined for negative numbers.\")\n",
    "else:\n",
    "    result = factorial(check)\n",
    "    print(f\"The factorial of {check} is: {result}\")\n"
   ]
  },
  {
   "cell_type": "markdown",
   "id": "f81b7229",
   "metadata": {},
   "source": [
    "12. Write a python program to find whether a number is prime or composite."
   ]
  },
  {
   "cell_type": "code",
   "execution_count": 5,
   "id": "0d519a72",
   "metadata": {},
   "outputs": [
    {
     "name": "stdout",
     "output_type": "stream",
     "text": [
      "Enter a number: 5\n",
      "5 is a prime number.\n"
     ]
    }
   ],
   "source": [
    "def is_prime(number):\n",
    "    if number <= 1:\n",
    "        return False\n",
    "    elif number == 2:\n",
    "        return True\n",
    "    elif number % 2 == 0:\n",
    "        return False\n",
    "    else:\n",
    "        for i in range(3, int(number**0.5) + 1, 2):\n",
    "            if number % i == 0:\n",
    "                return False\n",
    "        return True\n",
    "\n",
    "number = int(input(\"Enter a number: \"))\n",
    "\n",
    "if is_prime(number):\n",
    "    print(f\"{number} is a prime number.\")\n",
    "else:\n",
    "    print(f\"{number} is a composite number.\")\n"
   ]
  },
  {
   "cell_type": "markdown",
   "id": "861ecf27",
   "metadata": {},
   "source": [
    "13. Write a python program to check whether a given string is palindrome or not."
   ]
  },
  {
   "cell_type": "code",
   "execution_count": 6,
   "id": "c22ea993",
   "metadata": {},
   "outputs": [
    {
     "name": "stdout",
     "output_type": "stream",
     "text": [
      "Enter a string: DragonBallSuper is the greatest of all time\n",
      "DragonBallSuper is the greatest of all time is not a palindrome.\n"
     ]
    }
   ],
   "source": [
    "def is_palindrome(s):\n",
    "    s = s.replace(\" \", \"\").lower()\n",
    "    return s == s[::-1]\n",
    "input_string = input(\"Enter a string: \")\n",
    "if is_palindrome(input_string):\n",
    "    print(f\"{input_string} is a palindrome.\")\n",
    "else:\n",
    "    print(f\"{input_string} is not a palindrome.\")\n"
   ]
  },
  {
   "cell_type": "markdown",
   "id": "f4503378",
   "metadata": {},
   "source": [
    "14. Write a Python program to get the third side of right-angled triangle from two given sides."
   ]
  },
  {
   "cell_type": "code",
   "execution_count": 7,
   "id": "98837e5d",
   "metadata": {},
   "outputs": [
    {
     "name": "stdout",
     "output_type": "stream",
     "text": [
      "Enter the length of side a: 3\n",
      "Enter the length of side b: 6\n",
      "The length of the hypotenuse is: 6.708203932499369\n"
     ]
    }
   ],
   "source": [
    "def calculate_hypotenuse(a, b):\n",
    "    a_squared = a**2\n",
    "    b_squared = b**2\n",
    "    c_squared = a_squared + b_squared\n",
    "    c = c_squared**0.5\n",
    "    return c\n",
    "\n",
    "side_a = float(input(\"Enter the length of side a: \"))\n",
    "side_b = float(input(\"Enter the length of side b: \"))\n",
    "\n",
    "hypotenuse = calculate_hypotenuse(side_a, side_b)\n",
    "\n",
    "print(f\"The length of the hypotenuse is: {hypotenuse}\")\n"
   ]
  },
  {
   "cell_type": "markdown",
   "id": "f68725ef",
   "metadata": {},
   "source": [
    "15. Write a python program to print the frequency of each of the characters present in a given string."
   ]
  },
  {
   "cell_type": "code",
   "execution_count": 8,
   "id": "abf2561c",
   "metadata": {},
   "outputs": [
    {
     "name": "stdout",
     "output_type": "stream",
     "text": [
      "Enter a string: What the the hell is wrong with the program\n",
      "Character frequencies:\n",
      "'W': 1\n",
      "'h': 6\n",
      "'a': 2\n",
      "'t': 5\n",
      "' ': 8\n",
      "'e': 4\n",
      "'l': 2\n",
      "'i': 2\n",
      "'s': 1\n",
      "'w': 2\n",
      "'r': 3\n",
      "'o': 2\n",
      "'n': 1\n",
      "'g': 2\n",
      "'p': 1\n",
      "'m': 1\n"
     ]
    }
   ],
   "source": [
    "def character_frequency(string):\n",
    "    frequency_dict = {}\n",
    "    for char in string:\n",
    "        if char in frequency_dict:\n",
    "            frequency_dict[char] += 1\n",
    "        else:\n",
    "            frequency_dict[char] = 1\n",
    "    return frequency_dict\n",
    "\n",
    "input_string = input(\"Enter a string: \")\n",
    "\n",
    "freq_result = character_frequency(input_string)\n",
    "\n",
    "print(\"Character frequencies:\")\n",
    "for char, freq in freq_result.items():\n",
    "    print(f\"'{char}': {freq}\")\n"
   ]
  },
  {
   "cell_type": "code",
   "execution_count": null,
   "id": "99e0c539",
   "metadata": {},
   "outputs": [],
   "source": []
  },
  {
   "cell_type": "code",
   "execution_count": null,
   "id": "63d90912",
   "metadata": {},
   "outputs": [],
   "source": []
  },
  {
   "cell_type": "code",
   "execution_count": null,
   "id": "1dc21dee",
   "metadata": {},
   "outputs": [],
   "source": []
  },
  {
   "cell_type": "code",
   "execution_count": null,
   "id": "96ecfa7b",
   "metadata": {},
   "outputs": [],
   "source": []
  }
 ],
 "metadata": {
  "kernelspec": {
   "display_name": "Python 3 (ipykernel)",
   "language": "python",
   "name": "python3"
  },
  "language_info": {
   "codemirror_mode": {
    "name": "ipython",
    "version": 3
   },
   "file_extension": ".py",
   "mimetype": "text/x-python",
   "name": "python",
   "nbconvert_exporter": "python",
   "pygments_lexer": "ipython3",
   "version": "3.10.9"
  }
 },
 "nbformat": 4,
 "nbformat_minor": 5
}
