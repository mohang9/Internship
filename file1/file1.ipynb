{
 "cells": [
  {
   "cell_type": "markdown",
   "id": "4cf25a64",
   "metadata": {},
   "source": [
    "# Flip Robo Technologies\n",
    "Internship - Batch DS0523\n",
    "\n",
    "Project : Batch DS2311\n",
    "\n",
    "By Mohan G"
   ]
  },
  {
   "cell_type": "markdown",
   "id": "bfc3bdba",
   "metadata": {},
   "source": [
    "MCQ"
   ]
  },
  {
   "cell_type": "markdown",
   "id": "071a0d8c",
   "metadata": {},
   "source": [
    "1.What will be the output of the following code snippet?\n",
    "\n",
    "def func(a, b):\n",
    "\n",
    "return b if a == 0 else func(b % a, a)\n",
    "\n",
    "print(func(30, 75))\n",
    "\n",
    "a) 10\n",
    "\n",
    "b) 20\n",
    "\n",
    "c) 15\n",
    "\n",
    "d) 0"
   ]
  },
  {
   "cell_type": "code",
   "execution_count": 2,
   "id": "dee81ef8",
   "metadata": {},
   "outputs": [
    {
     "name": "stdout",
     "output_type": "stream",
     "text": [
      "15\n"
     ]
    }
   ],
   "source": [
    "#1.\n",
    "def func(a, b):\n",
    " return b if a == 0 else func(b % a, a)\n",
    "print(func(30, 75))"
   ]
  },
  {
   "cell_type": "markdown",
   "id": "9580f679",
   "metadata": {},
   "source": [
    "2.numbers = (4, 7, 19, 2, 89, 45, 72, 22)\n",
    "\n",
    "sorted_numbers = sorted(numbers)\n",
    "\n",
    "even = lambda a: a % 2 == 0\n",
    "\n",
    "even_numbers = filter(even, sorted_numbers)\n",
    "\n",
    "print(type(even_numbers))\n",
    "\n",
    "a) Int\n",
    "\n",
    "b) Filter\n",
    "\n",
    "c) List\n",
    "\n",
    "d) Tuple"
   ]
  },
  {
   "cell_type": "code",
   "execution_count": 3,
   "id": "24be9ee0",
   "metadata": {},
   "outputs": [
    {
     "name": "stdout",
     "output_type": "stream",
     "text": [
      "<class 'filter'>\n"
     ]
    }
   ],
   "source": [
    "#2\n",
    "numbers = (4, 7, 19, 2, 89, 45, 72, 22)\n",
    "sorted_numbers = sorted(numbers)\n",
    "even = lambda a: a % 2 == 0\n",
    "even_numbers = filter(even, sorted_numbers)\n",
    "print(type(even_numbers))"
   ]
  },
  {
   "cell_type": "code",
   "execution_count": 19,
   "id": "6e648d6c",
   "metadata": {},
   "outputs": [
    {
     "name": "stdout",
     "output_type": "stream",
     "text": [
      "[2, 4, 7, 19, 22, 45, 72, 89]\n",
      "[2, 4, 22, 72]\n",
      "<class 'filter'>\n"
     ]
    }
   ],
   "source": [
    "#2\n",
    "numbers = (4, 7, 19, 2, 89, 45, 72, 22)\n",
    "sorted_numbers = sorted(numbers)\n",
    "print(sorted_numbers)\n",
    "even = lambda a: a % 2 == 0\n",
    "even_numbers = filter(even, sorted_numbers)\n",
    "even_numbers_list = list(even_numbers)\n",
    "print(even_numbers_list)\n",
    "print(type(even_numbers))"
   ]
  },
  {
   "cell_type": "markdown",
   "id": "d5ac8691",
   "metadata": {},
   "source": [
    "3.As what datatype are the *args stored, when passed into \n",
    "a) Tuple \n",
    "\n",
    "b) List \n",
    "\n",
    "c) Dictionary \n",
    "\n",
    "d) none"
   ]
  },
  {
   "cell_type": "code",
   "execution_count": 44,
   "id": "efca7da8",
   "metadata": {},
   "outputs": [
    {
     "name": "stdout",
     "output_type": "stream",
     "text": [
      "<class 'tuple'>\n",
      "(1, 9, 9, 7)\n"
     ]
    }
   ],
   "source": [
    "#3\n",
    "def datatype(*args):\n",
    "    print(type(args))\n",
    "    print(args)\n",
    "    \n",
    "datatype(1,9,9,7)\n",
    "    "
   ]
  },
  {
   "cell_type": "markdown",
   "id": "13431db6",
   "metadata": {},
   "source": [
    "4.set1 = {14, 3, 55}\n",
    "\n",
    "set2 = {82, 49, 62}\n",
    "\n",
    "set3={99,22,17}\n",
    "\n",
    "print(len(set1 + set2 + set3))\n",
    "\n",
    "a) 105\n",
    "\n",
    "b) 270\n",
    "\n",
    "c) 0\n",
    "\n",
    "d) Error"
   ]
  },
  {
   "cell_type": "code",
   "execution_count": 45,
   "id": "255e48bb",
   "metadata": {},
   "outputs": [
    {
     "ename": "TypeError",
     "evalue": "unsupported operand type(s) for +: 'set' and 'set'",
     "output_type": "error",
     "traceback": [
      "\u001b[1;31m---------------------------------------------------------------------------\u001b[0m",
      "\u001b[1;31mTypeError\u001b[0m                                 Traceback (most recent call last)",
      "Cell \u001b[1;32mIn[45], line 5\u001b[0m\n\u001b[0;32m      3\u001b[0m set2 \u001b[38;5;241m=\u001b[39m {\u001b[38;5;241m82\u001b[39m, \u001b[38;5;241m49\u001b[39m, \u001b[38;5;241m62\u001b[39m} \n\u001b[0;32m      4\u001b[0m set3\u001b[38;5;241m=\u001b[39m{\u001b[38;5;241m99\u001b[39m,\u001b[38;5;241m22\u001b[39m,\u001b[38;5;241m17\u001b[39m}\n\u001b[1;32m----> 5\u001b[0m \u001b[38;5;28mprint\u001b[39m(\u001b[38;5;28mlen\u001b[39m(\u001b[43mset1\u001b[49m\u001b[43m \u001b[49m\u001b[38;5;241;43m+\u001b[39;49m\u001b[43m \u001b[49m\u001b[43mset2\u001b[49m \u001b[38;5;241m+\u001b[39m set3))\n",
      "\u001b[1;31mTypeError\u001b[0m: unsupported operand type(s) for +: 'set' and 'set'"
     ]
    }
   ],
   "source": [
    "#4\n",
    "set1 = {14, 3, 55} \n",
    "set2 = {82, 49, 62} \n",
    "set3={99,22,17}\n",
    "print(len(set1 + set2 + set3)) \n"
   ]
  },
  {
   "cell_type": "markdown",
   "id": "23e24418",
   "metadata": {},
   "source": [
    "6.Which of the following modules need to be imported to handle date time computations in Python?\n",
    "\n",
    "a) timedate \n",
    "\n",
    "b) date \n",
    "\n",
    "c) datetime \n",
    "\n",
    "d) time"
   ]
  },
  {
   "cell_type": "code",
   "execution_count": 47,
   "id": "77b3ed0c",
   "metadata": {},
   "outputs": [
    {
     "ename": "ModuleNotFoundError",
     "evalue": "No module named 'timedate'",
     "output_type": "error",
     "traceback": [
      "\u001b[1;31m---------------------------------------------------------------------------\u001b[0m",
      "\u001b[1;31mModuleNotFoundError\u001b[0m                       Traceback (most recent call last)",
      "Cell \u001b[1;32mIn[47], line 2\u001b[0m\n\u001b[0;32m      1\u001b[0m \u001b[38;5;66;03m#6. Option a timedate\u001b[39;00m\n\u001b[1;32m----> 2\u001b[0m \u001b[38;5;28;01mfrom\u001b[39;00m \u001b[38;5;21;01mtimedate\u001b[39;00m \u001b[38;5;28;01mimport\u001b[39;00m timedate\n\u001b[0;32m      4\u001b[0m current_timedate \u001b[38;5;241m=\u001b[39m timedate\u001b[38;5;241m.\u001b[39mnow()\n\u001b[0;32m      6\u001b[0m \u001b[38;5;28mprint\u001b[39m(current_timedate)\n",
      "\u001b[1;31mModuleNotFoundError\u001b[0m: No module named 'timedate'"
     ]
    }
   ],
   "source": [
    "#6. Option a - timedate\n",
    "from timedate import timedate\n",
    "\n",
    "current_timedate = timedate.now()\n",
    "\n",
    "print(current_timedate)"
   ]
  },
  {
   "cell_type": "code",
   "execution_count": 48,
   "id": "4ea934ff",
   "metadata": {},
   "outputs": [
    {
     "ename": "ModuleNotFoundError",
     "evalue": "No module named 'date'",
     "output_type": "error",
     "traceback": [
      "\u001b[1;31m---------------------------------------------------------------------------\u001b[0m",
      "\u001b[1;31mModuleNotFoundError\u001b[0m                       Traceback (most recent call last)",
      "Cell \u001b[1;32mIn[48], line 2\u001b[0m\n\u001b[0;32m      1\u001b[0m \u001b[38;5;66;03m#6. Option b - date\u001b[39;00m\n\u001b[1;32m----> 2\u001b[0m \u001b[38;5;28;01mfrom\u001b[39;00m \u001b[38;5;21;01mdate\u001b[39;00m \u001b[38;5;28;01mimport\u001b[39;00m date\n\u001b[0;32m      4\u001b[0m current_date \u001b[38;5;241m=\u001b[39m date\u001b[38;5;241m.\u001b[39mnow()\n\u001b[0;32m      6\u001b[0m \u001b[38;5;28mprint\u001b[39m(current_date)\n",
      "\u001b[1;31mModuleNotFoundError\u001b[0m: No module named 'date'"
     ]
    }
   ],
   "source": [
    "#6. Option b - date\n",
    "from date import date\n",
    "\n",
    "current_date = date.now()\n",
    "\n",
    "print(current_date)"
   ]
  },
  {
   "cell_type": "code",
   "execution_count": 49,
   "id": "6bfe2cbd",
   "metadata": {},
   "outputs": [
    {
     "name": "stdout",
     "output_type": "stream",
     "text": [
      "2023-11-27 21:05:09.813295\n"
     ]
    }
   ],
   "source": [
    "#6. Option c - datetime\n",
    "from datetime import datetime\n",
    "\n",
    "current_datetime = datetime.now()\n",
    "\n",
    "print(current_datetime)"
   ]
  },
  {
   "cell_type": "markdown",
   "id": "daa5b38b",
   "metadata": {},
   "source": [
    "7.What will be the output of the following code snippet?\n",
    "\n",
    "print(4**3 + (7 + 5)**(1 + 1))\n",
    "\n",
    "a) 248\n",
    "\n",
    "b) 169\n",
    "\n",
    "c) 208\n",
    "\n",
    "d) 233"
   ]
  },
  {
   "cell_type": "code",
   "execution_count": 50,
   "id": "ad0c0d6e",
   "metadata": {},
   "outputs": [
    {
     "name": "stdout",
     "output_type": "stream",
     "text": [
      "208\n"
     ]
    }
   ],
   "source": [
    "#7\n",
    "print(4**3 + (7 + 5)**(1 + 1))"
   ]
  },
  {
   "cell_type": "markdown",
   "id": "cc350c17",
   "metadata": {},
   "source": [
    "8.Which of the following functions converts date to corresponding time in Python? \n",
    "a) strptime\n",
    "\n",
    "b) strftime\n",
    "\n",
    "c) both a) and b)\n",
    "\n",
    "d) None"
   ]
  },
  {
   "cell_type": "code",
   "execution_count": 52,
   "id": "752a5284",
   "metadata": {},
   "outputs": [
    {
     "name": "stdout",
     "output_type": "stream",
     "text": [
      "Enter the date and time value2023-12-26 9:30:35\n",
      "2023-12-26 09:30:35\n"
     ]
    }
   ],
   "source": [
    "#8 Option a - strptime\n",
    "\n",
    "from datetime import datetime\n",
    "\n",
    "date_string = input(\"Enter the date and time value\")\n",
    "formatted_date = datetime.strptime(date_string, \"%Y-%m-%d %H:%M:%S\")\n",
    "print(formatted_date)"
   ]
  },
  {
   "cell_type": "code",
   "execution_count": 53,
   "id": "66d71fb5",
   "metadata": {},
   "outputs": [
    {
     "name": "stdout",
     "output_type": "stream",
     "text": [
      "Enter the date and time value2023-12-26 9:30:35\n"
     ]
    },
    {
     "ename": "AttributeError",
     "evalue": "type object 'datetime.datetime' has no attribute 'strfptime'",
     "output_type": "error",
     "traceback": [
      "\u001b[1;31m---------------------------------------------------------------------------\u001b[0m",
      "\u001b[1;31mAttributeError\u001b[0m                            Traceback (most recent call last)",
      "Cell \u001b[1;32mIn[53], line 6\u001b[0m\n\u001b[0;32m      3\u001b[0m \u001b[38;5;28;01mfrom\u001b[39;00m \u001b[38;5;21;01mdatetime\u001b[39;00m \u001b[38;5;28;01mimport\u001b[39;00m datetime\n\u001b[0;32m      5\u001b[0m date_string \u001b[38;5;241m=\u001b[39m \u001b[38;5;28minput\u001b[39m(\u001b[38;5;124m\"\u001b[39m\u001b[38;5;124mEnter the date and time value\u001b[39m\u001b[38;5;124m\"\u001b[39m)\n\u001b[1;32m----> 6\u001b[0m formatted_date \u001b[38;5;241m=\u001b[39m \u001b[43mdatetime\u001b[49m\u001b[38;5;241;43m.\u001b[39;49m\u001b[43mstrfptime\u001b[49m(date_string, \u001b[38;5;124m\"\u001b[39m\u001b[38;5;124m%\u001b[39m\u001b[38;5;124mY-\u001b[39m\u001b[38;5;124m%\u001b[39m\u001b[38;5;124mm-\u001b[39m\u001b[38;5;132;01m%d\u001b[39;00m\u001b[38;5;124m \u001b[39m\u001b[38;5;124m%\u001b[39m\u001b[38;5;124mH:\u001b[39m\u001b[38;5;124m%\u001b[39m\u001b[38;5;124mM:\u001b[39m\u001b[38;5;124m%\u001b[39m\u001b[38;5;124mS\u001b[39m\u001b[38;5;124m\"\u001b[39m)\n\u001b[0;32m      7\u001b[0m \u001b[38;5;28mprint\u001b[39m(formatted_date)\n",
      "\u001b[1;31mAttributeError\u001b[0m: type object 'datetime.datetime' has no attribute 'strfptime'"
     ]
    }
   ],
   "source": [
    "#8 Option b - strfptime\n",
    "\n",
    "from datetime import datetime\n",
    "\n",
    "date_string = input(\"Enter the date and time value\")\n",
    "formatted_date = datetime.strfptime(date_string, \"%Y-%m-%d %H:%M:%S\")\n",
    "print(formatted_date)"
   ]
  },
  {
   "cell_type": "code",
   "execution_count": 55,
   "id": "b17517cb",
   "metadata": {},
   "outputs": [
    {
     "name": "stdout",
     "output_type": "stream",
     "text": [
      "2023-11-27\n"
     ]
    }
   ],
   "source": [
    "from datetime import datetime\n",
    "\n",
    "current_datetime = datetime.now()\n",
    "\n",
    "formatted_date = current_datetime.strftime(\"%Y-%m-%d\")\n",
    "print(formatted_date)"
   ]
  },
  {
   "cell_type": "markdown",
   "id": "e9856328",
   "metadata": {},
   "source": [
    "13.Amongst which of the following is / are the method of convert Python objects for writing data in a binary file?\n",
    "\n",
    "A. set() method\n",
    "\n",
    "B. dump() method\n",
    "\n",
    "C. load() method\n",
    "\n",
    "D. None of the mentioned above"
   ]
  },
  {
   "cell_type": "code",
   "execution_count": 1,
   "id": "4d1fc9ba",
   "metadata": {},
   "outputs": [
    {
     "name": "stdout",
     "output_type": "stream",
     "text": [
      "{'Anime': 'Dragon Ball Super', 'MC': 'Son Goku', 'Creator': 'Akira Toriyama'}\n"
     ]
    }
   ],
   "source": [
    "#13\n",
    "import pickle\n",
    "\n",
    "# Sample data to be written to the binary file\n",
    "data = {'Anime': 'Dragon Ball Super', 'MC': 'Son Goku', 'Creator': 'Akira Toriyama'}\n",
    "\n",
    "# Writing the data to a binary file using pickle.dump()\n",
    "with open('data.pkl', 'wb') as file: #wb to write binary\n",
    "    pickle.dump(data, file)\n",
    "\n",
    "# Reading the data back from the binary file using pickle.load()\n",
    "with open('data.pkl', 'rb') as file: #rb to read binary\n",
    "    loaded_data = pickle.load(file)\n",
    "\n",
    "# Displaying the loaded data\n",
    "print(loaded_data)"
   ]
  },
  {
   "cell_type": "markdown",
   "id": "79de2561",
   "metadata": {},
   "source": [
    "#13\n",
    "\n",
    "We have a dictionary (data) that we want to write to a binary file.\n",
    "We use pickle.dump(data, file) to serialize the dictionary and write it to the binary file 'data.pkl'.\n",
    "Later, we use pickle.load(file) to read the serialized data from the binary file back into a Python object (loaded_data).\n",
    "Finally, we print the loaded data, which should be the same as the original dictionary.\n",
    "Make sure to use the 'wb' (write binary) mode when opening the file for writing and 'rb' (read binary) mode when opening it for reading with pickle.dump() and pickle.load(), respectively.\n"
   ]
  },
  {
   "cell_type": "markdown",
   "id": "85efd406",
   "metadata": {},
   "source": [
    "14.Amongst which of the following is / are the method used to unpickling data from a binary file?\n",
    "\n",
    "A. load()\n",
    "\n",
    "B. set() method\n",
    "\n",
    "C. dump() method\n",
    "\n",
    "D. None of the mentioned above"
   ]
  },
  {
   "cell_type": "code",
   "execution_count": 2,
   "id": "51e3007c",
   "metadata": {},
   "outputs": [
    {
     "name": "stdout",
     "output_type": "stream",
     "text": [
      "{'Anime': 'Dragon Ball Super', 'MC': 'Son Goku', 'Creator': 'Akira Toriyama'}\n"
     ]
    }
   ],
   "source": [
    "#14\n",
    "import pickle\n",
    "\n",
    "# Sample data to be written to the binary file\n",
    "data = {'Anime': 'Dragon Ball Super', 'MC': 'Son Goku', 'Creator': 'Akira Toriyama'}\n",
    "\n",
    "# Writing the data to a binary file using pickle.dump()\n",
    "with open('data.pkl', 'wb') as file: #wb to write binary\n",
    "    pickle.dump(data, file)\n",
    "\n",
    "# Reading the data back from the binary file using pickle.load()\n",
    "with open('data.pkl', 'rb') as file: #rb to read binary\n",
    "    loaded_data = pickle.load(file) \n",
    "\n",
    "# Displaying the loaded data\n",
    "print(loaded_data)"
   ]
  },
  {
   "cell_type": "markdown",
   "id": "e78f525a",
   "metadata": {},
   "source": [
    "#14\n",
    "The pickle.load() method is used to deserialize data from a binary file. It reads the serialized data from the file and reconstructs the original Python object."
   ]
  },
  {
   "cell_type": "markdown",
   "id": "9db4bf09",
   "metadata": {},
   "source": [
    "16.Which Python code could replace the ellipsis (...) below to get the following output? \n",
    "\n",
    "(Select all that apply.) captains = { \"Enterprise\": \"Picard\", \"Voyager\": \"Janeway\", \"Defiant\": \"Sisko\", }\n",
    "\n",
    "Enterprise Picard, \n",
    "Voyager Janeway \n",
    "Defiant Sisko\n",
    "\n",
    "a) for ship, captain in captains.items():\n",
    "print(ship, captain)\n",
    "\n",
    "b) for ship in captains:\n",
    "print(ship, captains[ship])\n",
    "\n",
    "c) for ship in captains:"
   ]
  },
  {
   "cell_type": "code",
   "execution_count": 10,
   "id": "37917671",
   "metadata": {},
   "outputs": [
    {
     "name": "stdout",
     "output_type": "stream",
     "text": [
      "Enterprise Picard\n",
      "Voyager Janeway\n",
      "Defiant Sisko\n",
      "Enterprise Picard\n",
      "Voyager Janeway\n",
      "Defiant Sisko\n",
      "Enterprise {'Enterprise': 'Picard', 'Voyager': 'Janeway', 'Defiant': 'Sisko'}\n",
      "Voyager {'Enterprise': 'Picard', 'Voyager': 'Janeway', 'Defiant': 'Sisko'}\n",
      "Defiant {'Enterprise': 'Picard', 'Voyager': 'Janeway', 'Defiant': 'Sisko'}\n"
     ]
    }
   ],
   "source": [
    "#16\n",
    "captains = { \"Enterprise\": \"Picard\", \"Voyager\": \"Janeway\", \"Defiant\": \"Sisko\", }\n",
    "for ship, captain in captains.items():  #Option A\n",
    "    print(ship, captain)\n",
    "\n",
    "for ship in captains:   #Option B\n",
    "    print(ship, captains[ship])\n",
    "    \n",
    "for ship in captains:  #Option C\n",
    "    print(ship, captains)\n",
    "        "
   ]
  },
  {
   "cell_type": "markdown",
   "id": "39d904fc",
   "metadata": {},
   "source": [
    "18.Now you have your empty dictionary named captains. It’s time to add some data! Specifically, you want to add the key-value pairs\n",
    "\n",
    "\"Enterprise\": \"Picard\", \"Voyager\": \"Janeway\", and \"Defiant\": \"Sisko\".\n",
    "            \n",
    "Which of the following code snippets will successfully add these key-value pairs to the existing captains dictionary?\n",
    "\n",
    "a) captains{\"Enterprise\" = \"Picard\"}\n",
    "\n",
    "captains{\"Voyager\" = \"Janeway\"}\n",
    "\n",
    "captains{\"Defiant\" = \"Sisko\"}\n",
    "\n",
    "b) captains[\"Enterprise\"] = \"Picard\"\n",
    "\n",
    "captains[\"Voyager\"] = \"Janeway\"\n",
    "\n",
    "captains[\"Defiant\"] = \"Sisko\"\n",
    "\n",
    "c) captains = {\n",
    "\"Enterprise\": \"Picard\",\n",
    "\"Voyager\": \"Janeway\",\n",
    "\"Defiant\": \"Sisko\",\n",
    "}\n",
    "\n",
    "d) None of the above"
   ]
  },
  {
   "cell_type": "code",
   "execution_count": 23,
   "id": "51eef0d4",
   "metadata": {},
   "outputs": [
    {
     "ename": "SyntaxError",
     "evalue": "cannot assign to literal here. Maybe you meant '==' instead of '='? (223756638.py, line 5)",
     "output_type": "error",
     "traceback": [
      "\u001b[1;36m  Cell \u001b[1;32mIn[23], line 5\u001b[1;36m\u001b[0m\n\u001b[1;33m    captains{\"Enterprise\" = \"Picard\"}\u001b[0m\n\u001b[1;37m             ^\u001b[0m\n\u001b[1;31mSyntaxError\u001b[0m\u001b[1;31m:\u001b[0m cannot assign to literal here. Maybe you meant '==' instead of '='?\n"
     ]
    }
   ],
   "source": [
    "#18\n",
    "captains = {}\n",
    "\n",
    "#Option A\n",
    "captains{\"Enterprise\" = \"Picard\"}\n",
    "captains{\"Voyager\" = \"Janeway\"}\n",
    "captains{\"Defiant\" = \"Sisko\"}\n",
    "print(captains)\n",
    "\n",
    "#The syntax used in option (a) is incorrect for adding key-value pairs to a dictionary in Python. \n",
    "#The correct syntax uses square brackets, not curly braces.\n"
   ]
  },
  {
   "cell_type": "code",
   "execution_count": 24,
   "id": "8d11d040",
   "metadata": {},
   "outputs": [
    {
     "name": "stdout",
     "output_type": "stream",
     "text": [
      "{'Enterprise': 'Picard', 'Voyager': 'Janeway', 'Defiant': 'Sisko'}\n"
     ]
    }
   ],
   "source": [
    "captains = {}\n",
    "#Option B\n",
    "captains[\"Enterprise\"] = \"Picard\"\n",
    "captains[\"Voyager\"] = \"Janeway\"\n",
    "captains[\"Defiant\"] = \"Sisko\"\n",
    "print(captains)\n"
   ]
  },
  {
   "cell_type": "code",
   "execution_count": 26,
   "id": "72393249",
   "metadata": {},
   "outputs": [
    {
     "name": "stdout",
     "output_type": "stream",
     "text": [
      "{'Enterprise': 'Picard', 'Voyager': 'Janeway', 'Defiant': 'Sisko'}\n"
     ]
    }
   ],
   "source": [
    "capains = {}\n",
    "#Option C\n",
    "captains = {\n",
    "\"Enterprise\": \"Picard\",\n",
    "\"Voyager\": \"Janeway\",\n",
    "\"Defiant\": \"Sisko\",\n",
    "}\n",
    "print(captains)\n",
    "\n",
    "#Option (c) is a way to create a new dictionary with the specified key-value pairs, \n",
    "#but it doesn't add these pairs to an existing dictionary. \n",
    "#It creates a new dictionary and assigns it to the variable captains"
   ]
  },
  {
   "cell_type": "markdown",
   "id": "f8feb881",
   "metadata": {},
   "source": [
    "19.You’re really building out the Federation Starfleet now! Here’s what you have: \n",
    "    \n",
    "captains = { \"Enterprise\": \"Picard\", \"Voyager\": \"Janeway\", \"Defiant\": \"Sisko\", \"Discovery\": \"unknown\", }\n",
    "\n",
    "Now, say you want to display the ship and captain names contained in the dictionary, but you also want to provide some additional context. How could you do it?\n",
    "a) for item in captains.items():\n",
    "print(f\"The [ship] is captained by [captain].\")\n",
    "\n",
    "b) for ship, captain in captains.items():\n",
    "print(f\"The {ship} is captained by {captain}.\")\n",
    "\n",
    "c) for captain, ship in captains.items():\n",
    "print(f\"The {ship} is captained by {captain}.\")\n",
    "\n",
    "d) All are correct"
   ]
  },
  {
   "cell_type": "code",
   "execution_count": 29,
   "id": "3bbe77d1",
   "metadata": {},
   "outputs": [
    {
     "name": "stdout",
     "output_type": "stream",
     "text": [
      "The [ship] is captained by [captain].\n",
      "The [ship] is captained by [captain].\n",
      "The [ship] is captained by [captain].\n",
      "The [ship] is captained by [captain].\n"
     ]
    }
   ],
   "source": [
    "#19\n",
    "captains = { \"Enterprise\": \"Picard\", \"Voyager\": \"Janeway\", \"Defiant\": \"Sisko\", \"Discovery\":\"unknown\", }\n",
    "#Option A\n",
    "for item in captains.items(): #1st word is ship and 2nd word is captain\n",
    "    print(f\"The [ship] is captained by [captain].\")"
   ]
  },
  {
   "cell_type": "code",
   "execution_count": 30,
   "id": "0502bc0f",
   "metadata": {},
   "outputs": [
    {
     "name": "stdout",
     "output_type": "stream",
     "text": [
      "The Enterprise is captained by Picard.\n",
      "The Voyager is captained by Janeway.\n",
      "The Defiant is captained by Sisko.\n",
      "The Discovery is captained by unknown.\n"
     ]
    }
   ],
   "source": [
    "captains = { \"Enterprise\": \"Picard\", \"Voyager\": \"Janeway\", \"Defiant\": \"Sisko\", \"Discovery\":\"unknown\", }\n",
    "#Option B\n",
    "for ship, captain in captains.items(): #1st word is ship and 2nd word is captain\n",
    "    print(f\"The {ship} is captained by {captain}.\")"
   ]
  },
  {
   "cell_type": "code",
   "execution_count": 32,
   "id": "13ede963",
   "metadata": {},
   "outputs": [
    {
     "name": "stdout",
     "output_type": "stream",
     "text": [
      "The Picard is captained by Enterprise.\n",
      "The Janeway is captained by Voyager.\n",
      "The Sisko is captained by Defiant.\n",
      "The unknown is captained by Discovery.\n"
     ]
    }
   ],
   "source": [
    "captains = { \"Enterprise\": \"Picard\", \"Voyager\": \"Janeway\", \"Defiant\": \"Sisko\", \"Discovery\":\"unknown\", }\n",
    "#Option C\n",
    "for captain, ship in captains.items(): #1st word is ship and 2nd word is captain\n",
    "    print(f\"The {ship} is captained by {captain}.\")"
   ]
  },
  {
   "cell_type": "markdown",
   "id": "3b563687",
   "metadata": {},
   "source": [
    "20.You’ve created a dictionary, added data, checked for the existence of keys, and iterated over it with a for loop. Now you’re ready to delete a key from this dictionary: \n",
    "captains = { \"Enterprise\": \"Picard\", \"Voyager\": \"Janeway\", \"Defiant\": \"Sisko\", \"Discovery\": \"unknown\", }\n",
    "\n",
    "What statement will remove the entry for the key \"Discovery\"? \n",
    "a) del captains \n",
    "\n",
    "b) captains.remove() \n",
    "\n",
    "c) del captains[\"Discovery\"] \n",
    "\n",
    "d) captains[\"Discovery\"].pop()"
   ]
  },
  {
   "cell_type": "code",
   "execution_count": 33,
   "id": "73b0dadf",
   "metadata": {},
   "outputs": [],
   "source": [
    "#20\n",
    "captains = { \"Enterprise\": \"Picard\", \"Voyager\": \"Janeway\", \"Defiant\": \"Sisko\",\"Discovery\":\"unknown\",} \n",
    "\n",
    "#Option A\n",
    "del captains "
   ]
  },
  {
   "cell_type": "code",
   "execution_count": 34,
   "id": "cca26eb1",
   "metadata": {},
   "outputs": [
    {
     "ename": "NameError",
     "evalue": "name 'captains' is not defined",
     "output_type": "error",
     "traceback": [
      "\u001b[1;31m---------------------------------------------------------------------------\u001b[0m",
      "\u001b[1;31mNameError\u001b[0m                                 Traceback (most recent call last)",
      "Cell \u001b[1;32mIn[34], line 1\u001b[0m\n\u001b[1;32m----> 1\u001b[0m \u001b[43mcaptains\u001b[49m\n",
      "\u001b[1;31mNameError\u001b[0m: name 'captains' is not defined"
     ]
    }
   ],
   "source": [
    "captains"
   ]
  },
  {
   "cell_type": "code",
   "execution_count": 35,
   "id": "a0f63f23",
   "metadata": {},
   "outputs": [
    {
     "ename": "AttributeError",
     "evalue": "'dict' object has no attribute 'remove'",
     "output_type": "error",
     "traceback": [
      "\u001b[1;31m---------------------------------------------------------------------------\u001b[0m",
      "\u001b[1;31mAttributeError\u001b[0m                            Traceback (most recent call last)",
      "Cell \u001b[1;32mIn[35], line 3\u001b[0m\n\u001b[0;32m      1\u001b[0m captains \u001b[38;5;241m=\u001b[39m { \u001b[38;5;124m\"\u001b[39m\u001b[38;5;124mEnterprise\u001b[39m\u001b[38;5;124m\"\u001b[39m: \u001b[38;5;124m\"\u001b[39m\u001b[38;5;124mPicard\u001b[39m\u001b[38;5;124m\"\u001b[39m, \u001b[38;5;124m\"\u001b[39m\u001b[38;5;124mVoyager\u001b[39m\u001b[38;5;124m\"\u001b[39m: \u001b[38;5;124m\"\u001b[39m\u001b[38;5;124mJaneway\u001b[39m\u001b[38;5;124m\"\u001b[39m, \u001b[38;5;124m\"\u001b[39m\u001b[38;5;124mDefiant\u001b[39m\u001b[38;5;124m\"\u001b[39m: \u001b[38;5;124m\"\u001b[39m\u001b[38;5;124mSisko\u001b[39m\u001b[38;5;124m\"\u001b[39m,\u001b[38;5;124m\"\u001b[39m\u001b[38;5;124mDiscovery\u001b[39m\u001b[38;5;124m\"\u001b[39m:\u001b[38;5;124m\"\u001b[39m\u001b[38;5;124munknown\u001b[39m\u001b[38;5;124m\"\u001b[39m,}\n\u001b[0;32m      2\u001b[0m \u001b[38;5;66;03m#Option B\u001b[39;00m\n\u001b[1;32m----> 3\u001b[0m \u001b[43mcaptains\u001b[49m\u001b[38;5;241;43m.\u001b[39;49m\u001b[43mremove\u001b[49m()\n",
      "\u001b[1;31mAttributeError\u001b[0m: 'dict' object has no attribute 'remove'"
     ]
    }
   ],
   "source": [
    "captains = { \"Enterprise\": \"Picard\", \"Voyager\": \"Janeway\", \"Defiant\": \"Sisko\",\"Discovery\":\"unknown\",}\n",
    "#Option B\n",
    "captains.remove()"
   ]
  },
  {
   "cell_type": "code",
   "execution_count": 36,
   "id": "97dffdb9",
   "metadata": {},
   "outputs": [],
   "source": [
    "captains = { \"Enterprise\": \"Picard\", \"Voyager\": \"Janeway\", \"Defiant\": \"Sisko\",\"Discovery\":\"unknown\",}\n",
    "#Option C\n",
    "del captains[\"Discovery\"]"
   ]
  },
  {
   "cell_type": "code",
   "execution_count": 37,
   "id": "aa1ced7a",
   "metadata": {},
   "outputs": [
    {
     "data": {
      "text/plain": [
       "{'Enterprise': 'Picard', 'Voyager': 'Janeway', 'Defiant': 'Sisko'}"
      ]
     },
     "execution_count": 37,
     "metadata": {},
     "output_type": "execute_result"
    }
   ],
   "source": [
    "captains"
   ]
  },
  {
   "cell_type": "code",
   "execution_count": 38,
   "id": "66d11b47",
   "metadata": {},
   "outputs": [
    {
     "ename": "AttributeError",
     "evalue": "'str' object has no attribute 'pop'",
     "output_type": "error",
     "traceback": [
      "\u001b[1;31m---------------------------------------------------------------------------\u001b[0m",
      "\u001b[1;31mAttributeError\u001b[0m                            Traceback (most recent call last)",
      "Cell \u001b[1;32mIn[38], line 3\u001b[0m\n\u001b[0;32m      1\u001b[0m captains \u001b[38;5;241m=\u001b[39m { \u001b[38;5;124m\"\u001b[39m\u001b[38;5;124mEnterprise\u001b[39m\u001b[38;5;124m\"\u001b[39m: \u001b[38;5;124m\"\u001b[39m\u001b[38;5;124mPicard\u001b[39m\u001b[38;5;124m\"\u001b[39m, \u001b[38;5;124m\"\u001b[39m\u001b[38;5;124mVoyager\u001b[39m\u001b[38;5;124m\"\u001b[39m: \u001b[38;5;124m\"\u001b[39m\u001b[38;5;124mJaneway\u001b[39m\u001b[38;5;124m\"\u001b[39m, \u001b[38;5;124m\"\u001b[39m\u001b[38;5;124mDefiant\u001b[39m\u001b[38;5;124m\"\u001b[39m: \u001b[38;5;124m\"\u001b[39m\u001b[38;5;124mSisko\u001b[39m\u001b[38;5;124m\"\u001b[39m,\u001b[38;5;124m\"\u001b[39m\u001b[38;5;124mDiscovery\u001b[39m\u001b[38;5;124m\"\u001b[39m:\u001b[38;5;124m\"\u001b[39m\u001b[38;5;124munknown\u001b[39m\u001b[38;5;124m\"\u001b[39m,}\n\u001b[0;32m      2\u001b[0m \u001b[38;5;66;03m#Option B\u001b[39;00m\n\u001b[1;32m----> 3\u001b[0m \u001b[43mcaptains\u001b[49m\u001b[43m[\u001b[49m\u001b[38;5;124;43m\"\u001b[39;49m\u001b[38;5;124;43mDiscovery\u001b[39;49m\u001b[38;5;124;43m\"\u001b[39;49m\u001b[43m]\u001b[49m\u001b[38;5;241;43m.\u001b[39;49m\u001b[43mpop\u001b[49m()\n",
      "\u001b[1;31mAttributeError\u001b[0m: 'str' object has no attribute 'pop'"
     ]
    }
   ],
   "source": [
    "captains = { \"Enterprise\": \"Picard\", \"Voyager\": \"Janeway\", \"Defiant\": \"Sisko\",\"Discovery\":\"unknown\",}\n",
    "#Option B\n",
    "captains[\"Discovery\"].pop()"
   ]
  },
  {
   "cell_type": "code",
   "execution_count": null,
   "id": "7660f604",
   "metadata": {},
   "outputs": [],
   "source": []
  }
 ],
 "metadata": {
  "kernelspec": {
   "display_name": "Python 3 (ipykernel)",
   "language": "python",
   "name": "python3"
  },
  "language_info": {
   "codemirror_mode": {
    "name": "ipython",
    "version": 3
   },
   "file_extension": ".py",
   "mimetype": "text/x-python",
   "name": "python",
   "nbconvert_exporter": "python",
   "pygments_lexer": "ipython3",
   "version": "3.10.9"
  }
 },
 "nbformat": 4,
 "nbformat_minor": 5
}
